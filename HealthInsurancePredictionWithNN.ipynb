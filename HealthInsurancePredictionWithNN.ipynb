{
 "cells": [
  {
   "cell_type": "code",
   "execution_count": null,
   "metadata": {
    "id": "ob94HZWpEI7l"
   },
   "outputs": [],
   "source": [
    "# !pip install tensorflow"
   ]
  },
  {
   "cell_type": "code",
   "execution_count": null,
   "metadata": {
    "id": "j7XUIxKXzAhL"
   },
   "outputs": [],
   "source": [
    "import pandas as pd\n",
    "import matplotlib.pyplot as plt\n",
    "import seaborn as sns\n",
    "import numpy as np\n",
    "# import os"
   ]
  },
  {
   "cell_type": "code",
   "execution_count": null,
   "metadata": {
    "id": "Um_LPvK9zizB"
   },
   "outputs": [],
   "source": [
    "# data retrieved from:\n",
    "# https://www.kaggle.com/datasets/mirichoi0218/insurance\n",
    "df = pd.read_csv('insurance.csv')"
   ]
  },
  {
   "cell_type": "code",
   "execution_count": null,
   "metadata": {
    "colab": {
     "base_uri": "https://localhost:8080/",
     "height": 461
    },
    "id": "Gu5NyMDazkwb",
    "outputId": "88f93590-832d-4ec1-c5c3-e77323f290c2"
   },
   "outputs": [
    {
     "name": "stdout",
     "output_type": "stream",
     "text": [
      "shape of data:  (1338, 7)\n",
      "Index(['age', 'sex', 'bmi', 'children', 'smoker', 'region', 'charges'], dtype='object')\n"
     ]
    },
    {
     "data": {
      "text/html": [
       "\n",
       "  <div id=\"df-65c54120-99d8-4264-9637-c6016ffdce72\" class=\"colab-df-container\">\n",
       "    <div>\n",
       "<style scoped>\n",
       "    .dataframe tbody tr th:only-of-type {\n",
       "        vertical-align: middle;\n",
       "    }\n",
       "\n",
       "    .dataframe tbody tr th {\n",
       "        vertical-align: top;\n",
       "    }\n",
       "\n",
       "    .dataframe thead th {\n",
       "        text-align: right;\n",
       "    }\n",
       "</style>\n",
       "<table border=\"1\" class=\"dataframe\">\n",
       "  <thead>\n",
       "    <tr style=\"text-align: right;\">\n",
       "      <th></th>\n",
       "      <th>age</th>\n",
       "      <th>sex</th>\n",
       "      <th>bmi</th>\n",
       "      <th>children</th>\n",
       "      <th>smoker</th>\n",
       "      <th>region</th>\n",
       "      <th>charges</th>\n",
       "    </tr>\n",
       "  </thead>\n",
       "  <tbody>\n",
       "    <tr>\n",
       "      <th>0</th>\n",
       "      <td>19</td>\n",
       "      <td>female</td>\n",
       "      <td>27.900</td>\n",
       "      <td>0</td>\n",
       "      <td>yes</td>\n",
       "      <td>southwest</td>\n",
       "      <td>16884.92400</td>\n",
       "    </tr>\n",
       "    <tr>\n",
       "      <th>1</th>\n",
       "      <td>18</td>\n",
       "      <td>male</td>\n",
       "      <td>33.770</td>\n",
       "      <td>1</td>\n",
       "      <td>no</td>\n",
       "      <td>southeast</td>\n",
       "      <td>1725.55230</td>\n",
       "    </tr>\n",
       "    <tr>\n",
       "      <th>2</th>\n",
       "      <td>28</td>\n",
       "      <td>male</td>\n",
       "      <td>33.000</td>\n",
       "      <td>3</td>\n",
       "      <td>no</td>\n",
       "      <td>southeast</td>\n",
       "      <td>4449.46200</td>\n",
       "    </tr>\n",
       "    <tr>\n",
       "      <th>3</th>\n",
       "      <td>33</td>\n",
       "      <td>male</td>\n",
       "      <td>22.705</td>\n",
       "      <td>0</td>\n",
       "      <td>no</td>\n",
       "      <td>northwest</td>\n",
       "      <td>21984.47061</td>\n",
       "    </tr>\n",
       "    <tr>\n",
       "      <th>4</th>\n",
       "      <td>32</td>\n",
       "      <td>male</td>\n",
       "      <td>28.880</td>\n",
       "      <td>0</td>\n",
       "      <td>no</td>\n",
       "      <td>northwest</td>\n",
       "      <td>3866.85520</td>\n",
       "    </tr>\n",
       "    <tr>\n",
       "      <th>...</th>\n",
       "      <td>...</td>\n",
       "      <td>...</td>\n",
       "      <td>...</td>\n",
       "      <td>...</td>\n",
       "      <td>...</td>\n",
       "      <td>...</td>\n",
       "      <td>...</td>\n",
       "    </tr>\n",
       "    <tr>\n",
       "      <th>1333</th>\n",
       "      <td>50</td>\n",
       "      <td>male</td>\n",
       "      <td>30.970</td>\n",
       "      <td>3</td>\n",
       "      <td>no</td>\n",
       "      <td>northwest</td>\n",
       "      <td>10600.54830</td>\n",
       "    </tr>\n",
       "    <tr>\n",
       "      <th>1334</th>\n",
       "      <td>18</td>\n",
       "      <td>female</td>\n",
       "      <td>31.920</td>\n",
       "      <td>0</td>\n",
       "      <td>no</td>\n",
       "      <td>northeast</td>\n",
       "      <td>2205.98080</td>\n",
       "    </tr>\n",
       "    <tr>\n",
       "      <th>1335</th>\n",
       "      <td>18</td>\n",
       "      <td>female</td>\n",
       "      <td>36.850</td>\n",
       "      <td>0</td>\n",
       "      <td>no</td>\n",
       "      <td>southeast</td>\n",
       "      <td>1629.83350</td>\n",
       "    </tr>\n",
       "    <tr>\n",
       "      <th>1336</th>\n",
       "      <td>21</td>\n",
       "      <td>female</td>\n",
       "      <td>25.800</td>\n",
       "      <td>0</td>\n",
       "      <td>no</td>\n",
       "      <td>southwest</td>\n",
       "      <td>2007.94500</td>\n",
       "    </tr>\n",
       "    <tr>\n",
       "      <th>1337</th>\n",
       "      <td>61</td>\n",
       "      <td>female</td>\n",
       "      <td>29.070</td>\n",
       "      <td>0</td>\n",
       "      <td>yes</td>\n",
       "      <td>northwest</td>\n",
       "      <td>29141.36030</td>\n",
       "    </tr>\n",
       "  </tbody>\n",
       "</table>\n",
       "<p>1338 rows × 7 columns</p>\n",
       "</div>\n",
       "    <div class=\"colab-df-buttons\">\n",
       "\n",
       "  <div class=\"colab-df-container\">\n",
       "    <button class=\"colab-df-convert\" onclick=\"convertToInteractive('df-65c54120-99d8-4264-9637-c6016ffdce72')\"\n",
       "            title=\"Convert this dataframe to an interactive table.\"\n",
       "            style=\"display:none;\">\n",
       "\n",
       "  <svg xmlns=\"http://www.w3.org/2000/svg\" height=\"24px\" viewBox=\"0 -960 960 960\">\n",
       "    <path d=\"M120-120v-720h720v720H120Zm60-500h600v-160H180v160Zm220 220h160v-160H400v160Zm0 220h160v-160H400v160ZM180-400h160v-160H180v160Zm440 0h160v-160H620v160ZM180-180h160v-160H180v160Zm440 0h160v-160H620v160Z\"/>\n",
       "  </svg>\n",
       "    </button>\n",
       "\n",
       "  <style>\n",
       "    .colab-df-container {\n",
       "      display:flex;\n",
       "      gap: 12px;\n",
       "    }\n",
       "\n",
       "    .colab-df-convert {\n",
       "      background-color: #E8F0FE;\n",
       "      border: none;\n",
       "      border-radius: 50%;\n",
       "      cursor: pointer;\n",
       "      display: none;\n",
       "      fill: #1967D2;\n",
       "      height: 32px;\n",
       "      padding: 0 0 0 0;\n",
       "      width: 32px;\n",
       "    }\n",
       "\n",
       "    .colab-df-convert:hover {\n",
       "      background-color: #E2EBFA;\n",
       "      box-shadow: 0px 1px 2px rgba(60, 64, 67, 0.3), 0px 1px 3px 1px rgba(60, 64, 67, 0.15);\n",
       "      fill: #174EA6;\n",
       "    }\n",
       "\n",
       "    .colab-df-buttons div {\n",
       "      margin-bottom: 4px;\n",
       "    }\n",
       "\n",
       "    [theme=dark] .colab-df-convert {\n",
       "      background-color: #3B4455;\n",
       "      fill: #D2E3FC;\n",
       "    }\n",
       "\n",
       "    [theme=dark] .colab-df-convert:hover {\n",
       "      background-color: #434B5C;\n",
       "      box-shadow: 0px 1px 3px 1px rgba(0, 0, 0, 0.15);\n",
       "      filter: drop-shadow(0px 1px 2px rgba(0, 0, 0, 0.3));\n",
       "      fill: #FFFFFF;\n",
       "    }\n",
       "  </style>\n",
       "\n",
       "    <script>\n",
       "      const buttonEl =\n",
       "        document.querySelector('#df-65c54120-99d8-4264-9637-c6016ffdce72 button.colab-df-convert');\n",
       "      buttonEl.style.display =\n",
       "        google.colab.kernel.accessAllowed ? 'block' : 'none';\n",
       "\n",
       "      async function convertToInteractive(key) {\n",
       "        const element = document.querySelector('#df-65c54120-99d8-4264-9637-c6016ffdce72');\n",
       "        const dataTable =\n",
       "          await google.colab.kernel.invokeFunction('convertToInteractive',\n",
       "                                                    [key], {});\n",
       "        if (!dataTable) return;\n",
       "\n",
       "        const docLinkHtml = 'Like what you see? Visit the ' +\n",
       "          '<a target=\"_blank\" href=https://colab.research.google.com/notebooks/data_table.ipynb>data table notebook</a>'\n",
       "          + ' to learn more about interactive tables.';\n",
       "        element.innerHTML = '';\n",
       "        dataTable['output_type'] = 'display_data';\n",
       "        await google.colab.output.renderOutput(dataTable, element);\n",
       "        const docLink = document.createElement('div');\n",
       "        docLink.innerHTML = docLinkHtml;\n",
       "        element.appendChild(docLink);\n",
       "      }\n",
       "    </script>\n",
       "  </div>\n",
       "\n",
       "\n",
       "<div id=\"df-ea66dbae-7758-47c9-8309-a909a49a11b0\">\n",
       "  <button class=\"colab-df-quickchart\" onclick=\"quickchart('df-ea66dbae-7758-47c9-8309-a909a49a11b0')\"\n",
       "            title=\"Suggest charts\"\n",
       "            style=\"display:none;\">\n",
       "\n",
       "<svg xmlns=\"http://www.w3.org/2000/svg\" height=\"24px\"viewBox=\"0 0 24 24\"\n",
       "     width=\"24px\">\n",
       "    <g>\n",
       "        <path d=\"M19 3H5c-1.1 0-2 .9-2 2v14c0 1.1.9 2 2 2h14c1.1 0 2-.9 2-2V5c0-1.1-.9-2-2-2zM9 17H7v-7h2v7zm4 0h-2V7h2v10zm4 0h-2v-4h2v4z\"/>\n",
       "    </g>\n",
       "</svg>\n",
       "  </button>\n",
       "\n",
       "<style>\n",
       "  .colab-df-quickchart {\n",
       "      --bg-color: #E8F0FE;\n",
       "      --fill-color: #1967D2;\n",
       "      --hover-bg-color: #E2EBFA;\n",
       "      --hover-fill-color: #174EA6;\n",
       "      --disabled-fill-color: #AAA;\n",
       "      --disabled-bg-color: #DDD;\n",
       "  }\n",
       "\n",
       "  [theme=dark] .colab-df-quickchart {\n",
       "      --bg-color: #3B4455;\n",
       "      --fill-color: #D2E3FC;\n",
       "      --hover-bg-color: #434B5C;\n",
       "      --hover-fill-color: #FFFFFF;\n",
       "      --disabled-bg-color: #3B4455;\n",
       "      --disabled-fill-color: #666;\n",
       "  }\n",
       "\n",
       "  .colab-df-quickchart {\n",
       "    background-color: var(--bg-color);\n",
       "    border: none;\n",
       "    border-radius: 50%;\n",
       "    cursor: pointer;\n",
       "    display: none;\n",
       "    fill: var(--fill-color);\n",
       "    height: 32px;\n",
       "    padding: 0;\n",
       "    width: 32px;\n",
       "  }\n",
       "\n",
       "  .colab-df-quickchart:hover {\n",
       "    background-color: var(--hover-bg-color);\n",
       "    box-shadow: 0 1px 2px rgba(60, 64, 67, 0.3), 0 1px 3px 1px rgba(60, 64, 67, 0.15);\n",
       "    fill: var(--button-hover-fill-color);\n",
       "  }\n",
       "\n",
       "  .colab-df-quickchart-complete:disabled,\n",
       "  .colab-df-quickchart-complete:disabled:hover {\n",
       "    background-color: var(--disabled-bg-color);\n",
       "    fill: var(--disabled-fill-color);\n",
       "    box-shadow: none;\n",
       "  }\n",
       "\n",
       "  .colab-df-spinner {\n",
       "    border: 2px solid var(--fill-color);\n",
       "    border-color: transparent;\n",
       "    border-bottom-color: var(--fill-color);\n",
       "    animation:\n",
       "      spin 1s steps(1) infinite;\n",
       "  }\n",
       "\n",
       "  @keyframes spin {\n",
       "    0% {\n",
       "      border-color: transparent;\n",
       "      border-bottom-color: var(--fill-color);\n",
       "      border-left-color: var(--fill-color);\n",
       "    }\n",
       "    20% {\n",
       "      border-color: transparent;\n",
       "      border-left-color: var(--fill-color);\n",
       "      border-top-color: var(--fill-color);\n",
       "    }\n",
       "    30% {\n",
       "      border-color: transparent;\n",
       "      border-left-color: var(--fill-color);\n",
       "      border-top-color: var(--fill-color);\n",
       "      border-right-color: var(--fill-color);\n",
       "    }\n",
       "    40% {\n",
       "      border-color: transparent;\n",
       "      border-right-color: var(--fill-color);\n",
       "      border-top-color: var(--fill-color);\n",
       "    }\n",
       "    60% {\n",
       "      border-color: transparent;\n",
       "      border-right-color: var(--fill-color);\n",
       "    }\n",
       "    80% {\n",
       "      border-color: transparent;\n",
       "      border-right-color: var(--fill-color);\n",
       "      border-bottom-color: var(--fill-color);\n",
       "    }\n",
       "    90% {\n",
       "      border-color: transparent;\n",
       "      border-bottom-color: var(--fill-color);\n",
       "    }\n",
       "  }\n",
       "</style>\n",
       "\n",
       "  <script>\n",
       "    async function quickchart(key) {\n",
       "      const quickchartButtonEl =\n",
       "        document.querySelector('#' + key + ' button');\n",
       "      quickchartButtonEl.disabled = true;  // To prevent multiple clicks.\n",
       "      quickchartButtonEl.classList.add('colab-df-spinner');\n",
       "      try {\n",
       "        const charts = await google.colab.kernel.invokeFunction(\n",
       "            'suggestCharts', [key], {});\n",
       "      } catch (error) {\n",
       "        console.error('Error during call to suggestCharts:', error);\n",
       "      }\n",
       "      quickchartButtonEl.classList.remove('colab-df-spinner');\n",
       "      quickchartButtonEl.classList.add('colab-df-quickchart-complete');\n",
       "    }\n",
       "    (() => {\n",
       "      let quickchartButtonEl =\n",
       "        document.querySelector('#df-ea66dbae-7758-47c9-8309-a909a49a11b0 button');\n",
       "      quickchartButtonEl.style.display =\n",
       "        google.colab.kernel.accessAllowed ? 'block' : 'none';\n",
       "    })();\n",
       "  </script>\n",
       "</div>\n",
       "    </div>\n",
       "  </div>\n"
      ],
      "text/plain": [
       "      age     sex     bmi  children smoker     region      charges\n",
       "0      19  female  27.900         0    yes  southwest  16884.92400\n",
       "1      18    male  33.770         1     no  southeast   1725.55230\n",
       "2      28    male  33.000         3     no  southeast   4449.46200\n",
       "3      33    male  22.705         0     no  northwest  21984.47061\n",
       "4      32    male  28.880         0     no  northwest   3866.85520\n",
       "...   ...     ...     ...       ...    ...        ...          ...\n",
       "1333   50    male  30.970         3     no  northwest  10600.54830\n",
       "1334   18  female  31.920         0     no  northeast   2205.98080\n",
       "1335   18  female  36.850         0     no  southeast   1629.83350\n",
       "1336   21  female  25.800         0     no  southwest   2007.94500\n",
       "1337   61  female  29.070         0    yes  northwest  29141.36030\n",
       "\n",
       "[1338 rows x 7 columns]"
      ]
     },
     "execution_count": 364,
     "metadata": {},
     "output_type": "execute_result"
    }
   ],
   "source": [
    "# show data\n",
    "print(\"shape of data: \", df.shape)\n",
    "print(df.columns)\n",
    "df"
   ]
  },
  {
   "cell_type": "markdown",
   "metadata": {
    "id": "RAta8r0SztwJ"
   },
   "source": [
    "# Analyzing the Data\n",
    "\n"
   ]
  },
  {
   "cell_type": "code",
   "execution_count": null,
   "metadata": {
    "colab": {
     "base_uri": "https://localhost:8080/",
     "height": 601
    },
    "id": "Pjoh5ZHzznAR",
    "outputId": "385873ae-c889-4400-dfdc-8ebe642e3885"
   },
   "outputs": [
    {
     "name": "stdout",
     "output_type": "stream",
     "text": [
      "age         1338\n",
      "sex         1338\n",
      "bmi         1338\n",
      "children    1338\n",
      "smoker      1338\n",
      "region      1338\n",
      "charges     1338\n",
      "dtype: int64\n"
     ]
    },
    {
     "data": {
      "image/png": "[encoded data removed]",
      "text/plain": [
       "<Figure size 640x480 with 1 Axes>"
      ]
     },
     "metadata": {},
     "output_type": "display_data"
    }
   ],
   "source": [
    "# look for imbalance total data\n",
    "count = df.count() # all data has 1338 total, meaning there is no nan data\n",
    "print(count)\n",
    "\n",
    "plt.bar(df.columns, count)\n",
    "plt.ylabel(\"Total Count\")\n",
    "plt.xlabel(\"Category\")\n",
    "plt.show()"
   ]
  },
  {
   "cell_type": "code",
   "execution_count": null,
   "metadata": {
    "colab": {
     "base_uri": "https://localhost:8080/",
     "height": 578
    },
    "id": "xYdLFQ6-znDi",
    "outputId": "170f2614-9eba-4b21-a226-e61b8d656c5a"
   },
   "outputs": [
    {
     "name": "stdout",
     "output_type": "stream",
     "text": [
      "age\n",
      "18    69\n",
      "19    68\n",
      "20    29\n",
      "21    28\n",
      "22    28\n",
      "dtype: int64\n"
     ]
    },
    {
     "data": {
      "image/png": "[encoded data removed]",
      "text/plain": [
       "<Figure size 640x480 with 1 Axes>"
      ]
     },
     "metadata": {},
     "output_type": "display_data"
    }
   ],
   "source": [
    "# looks for imbalance in age. Very skewed towards the younger ones\n",
    "age = df.groupby(\"age\").size()\n",
    "print(age.head())\n",
    "\n",
    "plt.bar(age.index, age.values)\n",
    "plt.ylabel(\"Total age\")\n",
    "plt.xlabel(\"age\")\n",
    "plt.show()"
   ]
  },
  {
   "cell_type": "code",
   "execution_count": null,
   "metadata": {
    "colab": {
     "base_uri": "https://localhost:8080/",
     "height": 523
    },
    "id": "A_IB6B4SznF6",
    "outputId": "328aeb8a-a226-4010-ce27-638ec10d358d"
   },
   "outputs": [
    {
     "name": "stdout",
     "output_type": "stream",
     "text": [
      "sex\n",
      "female    662\n",
      "male      676\n",
      "dtype: int64\n"
     ]
    },
    {
     "data": {
      "image/png": "[encoded data removed]",
      "text/plain": [
       "<Figure size 640x480 with 1 Axes>"
      ]
     },
     "metadata": {},
     "output_type": "display_data"
    }
   ],
   "source": [
    "# looks for imbalance in sex. It is very close\n",
    "sex = df.groupby(\"sex\").size()\n",
    "print(sex)\n",
    "\n",
    "plt.bar(sex.index, sex.values)\n",
    "plt.ylabel(\"Total sex\")\n",
    "plt.xlabel(\"Sex\")\n",
    "plt.show()"
   ]
  },
  {
   "cell_type": "code",
   "execution_count": null,
   "metadata": {
    "colab": {
     "base_uri": "https://localhost:8080/",
     "height": 883
    },
    "id": "hMD1pTNiznIe",
    "outputId": "d4846fcb-9cb0-466f-ffa7-283bae6cfecd"
   },
   "outputs": [
    {
     "name": "stdout",
     "output_type": "stream",
     "text": [
      "0    27.900\n",
      "1    33.770\n",
      "2    33.000\n",
      "3    22.705\n",
      "4    28.880\n",
      "Name: bmi, dtype: float64\n"
     ]
    },
    {
     "data": {
      "image/png": "[encoded data removed]",
      "text/plain": [
       "<Figure size 1300x900 with 1 Axes>"
      ]
     },
     "metadata": {},
     "output_type": "display_data"
    }
   ],
   "source": [
    "# looks for imbalance in bmi. Skewed heavily towards the middle\n",
    "print(df.bmi.head())\n",
    "\n",
    "plt.figure(figsize=(13,9))\n",
    "plt.plot(df.bmi, 'ro')\n",
    "plt.ylabel(\"Total bmi\")\n",
    "plt.xlabel(\"bmi\")\n",
    "plt.show()"
   ]
  },
  {
   "cell_type": "code",
   "execution_count": null,
   "metadata": {
    "colab": {
     "base_uri": "https://localhost:8080/",
     "height": 600
    },
    "id": "qav_eUWyznK6",
    "outputId": "d400a5cd-439f-4a85-995d-20d3fd2f0f3a"
   },
   "outputs": [
    {
     "name": "stdout",
     "output_type": "stream",
     "text": [
      "children\n",
      "0    574\n",
      "1    324\n",
      "2    240\n",
      "3    157\n",
      "4     25\n",
      "5     18\n",
      "dtype: int64\n"
     ]
    },
    {
     "data": {
      "image/png": "[encoded data removed]",
      "text/plain": [
       "<Figure size 640x480 with 1 Axes>"
      ]
     },
     "metadata": {},
     "output_type": "display_data"
    }
   ],
   "source": [
    "# looks for imbalance in children. Skewed towards lower numbers\n",
    "children = df.groupby(\"children\").size()\n",
    "print(children)\n",
    "\n",
    "plt.bar(children.index, children.values)\n",
    "plt.ylabel(\"Total children\")\n",
    "plt.xlabel(\"children\")\n",
    "plt.show()"
   ]
  },
  {
   "cell_type": "code",
   "execution_count": null,
   "metadata": {
    "colab": {
     "base_uri": "https://localhost:8080/",
     "height": 522
    },
    "id": "XYiSERx0znNZ",
    "outputId": "70dedf4b-4ccd-4e04-d931-87c20596a235"
   },
   "outputs": [
    {
     "name": "stdout",
     "output_type": "stream",
     "text": [
      "smoker\n",
      "no     1064\n",
      "yes     274\n",
      "dtype: int64\n"
     ]
    },
    {
     "data": {
      "image/png": "[encoded data removed]",
      "text/plain": [
       "<Figure size 640x480 with 1 Axes>"
      ]
     },
     "metadata": {},
     "output_type": "display_data"
    }
   ],
   "source": [
    "# looks for imbalance in smoker. Skewed towards non smokers\n",
    "smoker = df.groupby(\"smoker\").size()\n",
    "print(smoker)\n",
    "\n",
    "plt.bar(smoker.index, smoker.values)\n",
    "plt.ylabel(\"Total smoker\")\n",
    "plt.xlabel(\"smoker\")\n",
    "plt.show()"
   ]
  },
  {
   "cell_type": "code",
   "execution_count": null,
   "metadata": {
    "colab": {
     "base_uri": "https://localhost:8080/",
     "height": 559
    },
    "id": "f0yFQFE-0HTl",
    "outputId": "023cbe08-6fa8-4815-c730-ffb49a8f0e67"
   },
   "outputs": [
    {
     "name": "stdout",
     "output_type": "stream",
     "text": [
      "region\n",
      "northeast    324\n",
      "northwest    325\n",
      "southeast    364\n",
      "southwest    325\n",
      "dtype: int64\n"
     ]
    },
    {
     "data": {
      "image/png": "[encoded data removed]",
      "text/plain": [
       "<Figure size 640x480 with 1 Axes>"
      ]
     },
     "metadata": {},
     "output_type": "display_data"
    }
   ],
   "source": [
    "# looks for imbalance in sex. Seems like there is a bit more for southeast\n",
    "region = df.groupby(\"region\").size()\n",
    "print(region)\n",
    "\n",
    "plt.bar(region.index, region.values)\n",
    "plt.ylabel(\"Total region\")\n",
    "plt.xlabel(\"region\")\n",
    "plt.show()"
   ]
  },
  {
   "cell_type": "markdown",
   "metadata": {
    "id": "7RgOYweH2ZBC"
   },
   "source": [
    "# Comparison within Data"
   ]
  },
  {
   "cell_type": "code",
   "execution_count": null,
   "metadata": {
    "id": "aDwFBkZ_2v0g"
   },
   "outputs": [],
   "source": [
    "# Sex\n",
    "# sns.pairplot(data=df, hue=\"sex\")"
   ]
  },
  {
   "cell_type": "code",
   "execution_count": null,
   "metadata": {
    "id": "6mwGgH_a2v8f"
   },
   "outputs": [],
   "source": [
    "# Children\n",
    "# sns.pairplot(data=df, hue=\"children\")"
   ]
  },
  {
   "cell_type": "code",
   "execution_count": null,
   "metadata": {
    "id": "tnJD6zwq2wAe"
   },
   "outputs": [],
   "source": [
    "# Smoker\n",
    "# sns.pairplot(data=df, hue=\"smoker\")"
   ]
  },
  {
   "cell_type": "code",
   "execution_count": null,
   "metadata": {
    "id": "yuLTCDGZ0Hcv"
   },
   "outputs": [],
   "source": [
    "# Region\n",
    "# sns.pairplot(data=df, hue=\"region\")"
   ]
  },
  {
   "cell_type": "markdown",
   "metadata": {
    "id": "gSCWC1VC8IoK"
   },
   "source": [
    "# Setup Model for testing"
   ]
  },
  {
   "cell_type": "code",
   "execution_count": null,
   "metadata": {
    "id": "afN3MN8SJAyG"
   },
   "outputs": [],
   "source": [
    "from sklearn.preprocessing import LabelEncoder\n",
    "from sklearn.preprocessing import MinMaxScaler\n",
    "le = LabelEncoder()\n",
    "sc = MinMaxScaler()"
   ]
  },
  {
   "cell_type": "code",
   "execution_count": null,
   "metadata": {
    "colab": {
     "base_uri": "https://localhost:8080/"
    },
    "id": "0plxztCuIT-q",
    "outputId": "21bf0ab2-d834-469f-e424-4256ebd3bd09"
   },
   "outputs": [
    {
     "name": "stdout",
     "output_type": "stream",
     "text": [
      "<class 'pandas.core.frame.DataFrame'>\n",
      "<class 'pandas.core.frame.DataFrame'>\n"
     ]
    }
   ],
   "source": [
    "# split the data\n",
    "X = df[['age', 'sex', 'bmi', 'children', 'smoker', 'region']]\n",
    "Y = df[['charges']]\n",
    "\n",
    "print(type(X))\n",
    "print(type(Y))"
   ]
  },
  {
   "cell_type": "code",
   "execution_count": null,
   "metadata": {
    "colab": {
     "base_uri": "https://localhost:8080/"
    },
    "id": "xgid7DJmWBf8",
    "outputId": "2596ac65-b908-434c-ae87-a743fb648484"
   },
   "outputs": [
    {
     "name": "stdout",
     "output_type": "stream",
     "text": [
      "no     1064\n",
      "yes     274\n",
      "Name: smoker, dtype: int64\n",
      "male      676\n",
      "female    662\n",
      "Name: sex, dtype: int64\n",
      "southeast    364\n",
      "southwest    325\n",
      "northwest    325\n",
      "northeast    324\n",
      "Name: region, dtype: int64\n"
     ]
    }
   ],
   "source": [
    "print(X['smoker'].value_counts())\n",
    "print(X['sex'].value_counts())\n",
    "print(X['region'].value_counts())"
   ]
  },
  {
   "cell_type": "code",
   "execution_count": null,
   "metadata": {
    "colab": {
     "base_uri": "https://localhost:8080/"
    },
    "id": "tfd4iu1MIiSt",
    "outputId": "ffe9cf60-c1ae-4d1f-ceb6-2f396c3d31bd"
   },
   "outputs": [
    {
     "name": "stderr",
     "output_type": "stream",
     "text": [
      "<ipython-input-379-fc32a6aa3560>:1: SettingWithCopyWarning: \n",
      "A value is trying to be set on a copy of a slice from a DataFrame.\n",
      "Try using .loc[row_indexer,col_indexer] = value instead\n",
      "\n",
      "See the caveats in the documentation: https://pandas.pydata.org/pandas-docs/stable/user_guide/indexing.html#returning-a-view-versus-a-copy\n",
      "  X['smoker'] = le.fit_transform(X['smoker'])\n",
      "<ipython-input-379-fc32a6aa3560>:2: SettingWithCopyWarning: \n",
      "A value is trying to be set on a copy of a slice from a DataFrame.\n",
      "Try using .loc[row_indexer,col_indexer] = value instead\n",
      "\n",
      "See the caveats in the documentation: https://pandas.pydata.org/pandas-docs/stable/user_guide/indexing.html#returning-a-view-versus-a-copy\n",
      "  X['sex'] = le.fit_transform(X['sex'])\n",
      "<ipython-input-379-fc32a6aa3560>:3: SettingWithCopyWarning: \n",
      "A value is trying to be set on a copy of a slice from a DataFrame.\n",
      "Try using .loc[row_indexer,col_indexer] = value instead\n",
      "\n",
      "See the caveats in the documentation: https://pandas.pydata.org/pandas-docs/stable/user_guide/indexing.html#returning-a-view-versus-a-copy\n",
      "  X['region'] = le.fit_transform(X['region'])\n"
     ]
    }
   ],
   "source": [
    "X['smoker'] = le.fit_transform(X['smoker'])\n",
    "X['sex'] = le.fit_transform(X['sex'])\n",
    "X['region'] = le.fit_transform(X['region'])"
   ]
  },
  {
   "cell_type": "code",
   "execution_count": null,
   "metadata": {
    "colab": {
     "base_uri": "https://localhost:8080/"
    },
    "id": "3ZZNLdiJJKcW",
    "outputId": "9e618d8a-6454-4ee5-c1b6-7bbc72fe0bf8"
   },
   "outputs": [
    {
     "name": "stdout",
     "output_type": "stream",
     "text": [
      "0    1064\n",
      "1     274\n",
      "Name: smoker, dtype: int64\n",
      "1    676\n",
      "0    662\n",
      "Name: sex, dtype: int64\n",
      "2    364\n",
      "3    325\n",
      "1    325\n",
      "0    324\n",
      "Name: region, dtype: int64\n"
     ]
    }
   ],
   "source": [
    "print(X['smoker'].value_counts())\n",
    "print(X['sex'].value_counts())\n",
    "print(X['region'].value_counts())"
   ]
  },
  {
   "cell_type": "code",
   "execution_count": null,
   "metadata": {
    "colab": {
     "base_uri": "https://localhost:8080/"
    },
    "id": "4uc1JyUpJ6Ju",
    "outputId": "7e009857-17e8-40ad-a705-d08cbabfcf6b"
   },
   "outputs": [
    {
     "name": "stdout",
     "output_type": "stream",
     "text": [
      "0 = northeast\n",
      "1 = northwest\n",
      "2 = southeast\n",
      "3 = southwest\n",
      "<class 'pandas.core.frame.DataFrame'>\n"
     ]
    }
   ],
   "source": [
    "for i in range(le.classes_.shape[0]):\n",
    "  print(f\"{i} = {le.classes_[i]}\")\n",
    "X\n",
    "print(type(X))"
   ]
  },
  {
   "cell_type": "code",
   "execution_count": null,
   "metadata": {
    "colab": {
     "base_uri": "https://localhost:8080/"
    },
    "id": "1vje-0YaUFPo",
    "outputId": "5e6c8825-f7ac-49e1-aa9b-80fe71507645"
   },
   "outputs": [
    {
     "name": "stdout",
     "output_type": "stream",
     "text": [
      "<class 'numpy.ndarray'>\n"
     ]
    }
   ],
   "source": [
    "X = sc.fit_transform(X)\n",
    "X\n",
    "print(type(X))"
   ]
  },
  {
   "cell_type": "code",
   "execution_count": null,
   "metadata": {
    "colab": {
     "base_uri": "https://localhost:8080/"
    },
    "id": "FJDUSKrM8L0z",
    "outputId": "1abb0aef-f263-452e-c22c-1ce5c4d903f4"
   },
   "outputs": [
    {
     "name": "stdout",
     "output_type": "stream",
     "text": [
      "<class 'numpy.ndarray'>\n"
     ]
    }
   ],
   "source": [
    "# split the data by column\n",
    "Y = sc.fit_transform(Y)\n",
    "print(type(Y))"
   ]
  },
  {
   "cell_type": "code",
   "execution_count": null,
   "metadata": {
    "colab": {
     "base_uri": "https://localhost:8080/"
    },
    "id": "7cq4phSdUodn",
    "outputId": "a034aa18-ea1a-4682-99d1-215be29d1aea"
   },
   "outputs": [
    {
     "name": "stdout",
     "output_type": "stream",
     "text": [
      "X:\n",
      "(1338, 6)\n",
      "[[0.02173913 0.         0.3212268  0.         1.         1.        ]\n",
      " [0.         1.         0.47914985 0.2        0.         0.66666667]\n",
      " [0.2173913  1.         0.45843422 0.6        0.         0.66666667]\n",
      " ...\n",
      " [0.         0.         0.56201238 0.         0.         0.66666667]\n",
      " [0.06521739 0.         0.26472962 0.         0.         1.        ]\n",
      " [0.93478261 0.         0.35270379 0.         1.         0.33333333]]\n",
      "\n",
      "Y:\n",
      "(1338, 1)\n",
      "[[0.25161076]\n",
      " [0.00963595]\n",
      " [0.05311516]\n",
      " ...\n",
      " [0.00810808]\n",
      " [0.01414352]\n",
      " [0.44724873]]\n"
     ]
    }
   ],
   "source": [
    "print(\"X:\")\n",
    "print(X.shape)\n",
    "print(X)\n",
    "\n",
    "print(\"\\nY:\")\n",
    "print(Y.shape)\n",
    "print(Y)"
   ]
  },
  {
   "cell_type": "code",
   "execution_count": null,
   "metadata": {
    "id": "snbIkebo0Hia"
   },
   "outputs": [],
   "source": [
    "import tensorflow as tf\n",
    "from tensorflow import keras\n",
    "from tensorflow.keras.models import Sequential\n",
    "from tensorflow.keras.layers import Dense\n",
    "from tensorflow.keras.optimizers import Adam\n",
    "from sklearn.model_selection import train_test_split"
   ]
  },
  {
   "cell_type": "code",
   "execution_count": null,
   "metadata": {
    "id": "LZlkqHkx9VXy"
   },
   "outputs": [],
   "source": [
    "# split the dataset into 80/20\n",
    "X_train, X_test, Y_train, Y_test = train_test_split(X, Y, train_size=0.80, random_state=42)"
   ]
  },
  {
   "cell_type": "code",
   "execution_count": null,
   "metadata": {
    "colab": {
     "base_uri": "https://localhost:8080/"
    },
    "id": "CWJmBAwMVEPO",
    "outputId": "c7c75044-a0e6-4039-a97f-39dde4c62c69"
   },
   "outputs": [
    {
     "name": "stdout",
     "output_type": "stream",
     "text": [
      "<class 'numpy.ndarray'>\n",
      "<class 'numpy.ndarray'>\n",
      "<class 'numpy.ndarray'>\n",
      "<class 'numpy.ndarray'>\n"
     ]
    }
   ],
   "source": [
    "print(type(X_train))\n",
    "print(type(X_test))\n",
    "print(type(Y_train))\n",
    "print(type(X_train))\n"
   ]
  },
  {
   "cell_type": "code",
   "execution_count": null,
   "metadata": {
    "colab": {
     "base_uri": "https://localhost:8080/"
    },
    "id": "pudvlUye8L3G",
    "outputId": "34a4455f-d4e6-4ced-a3b3-dc3913bcba26"
   },
   "outputs": [
    {
     "name": "stdout",
     "output_type": "stream",
     "text": [
      "(1070, 6)\n"
     ]
    },
    {
     "data": {
      "text/plain": [
       "array([[0.60869565, 0.        , 0.10734463, 0.4       , 0.        ,\n",
       "        0.33333333],\n",
       "       [0.63043478, 0.        , 0.22491256, 0.        , 0.        ,\n",
       "        0.        ],\n",
       "       [0.73913043, 0.        , 0.23944041, 0.        , 0.        ,\n",
       "        0.66666667],\n",
       "       [0.45652174, 0.        , 0.49394673, 1.        , 0.        ,\n",
       "        0.66666667],\n",
       "       [0.7826087 , 0.        , 0.14823783, 0.6       , 0.        ,\n",
       "        0.33333333]])"
      ]
     },
     "execution_count": 388,
     "metadata": {},
     "output_type": "execute_result"
    }
   ],
   "source": [
    "print(X_train.shape)\n",
    "X_train[0:5]"
   ]
  },
  {
   "cell_type": "code",
   "execution_count": null,
   "metadata": {
    "colab": {
     "base_uri": "https://localhost:8080/"
    },
    "id": "klvHmKu88L5w",
    "outputId": "abb669a6-c7fa-4723-ff85-298fa831eb85"
   },
   "outputs": [
    {
     "name": "stdout",
     "output_type": "stream",
     "text": [
      "(268, 6)\n"
     ]
    },
    {
     "data": {
      "text/plain": [
       "array([[0.58695652, 0.        , 0.24791499, 0.4       , 0.        ,\n",
       "        0.        ],\n",
       "       [0.39130435, 0.        , 0.37826204, 0.        , 0.        ,\n",
       "        0.33333333],\n",
       "       [1.        , 0.        , 0.29391983, 0.        , 1.        ,\n",
       "        0.33333333],\n",
       "       [0.60869565, 1.        , 0.26324993, 0.6       , 0.        ,\n",
       "        0.33333333],\n",
       "       [0.02173913, 1.        , 0.42937853, 0.        , 1.        ,\n",
       "        0.33333333]])"
      ]
     },
     "execution_count": 389,
     "metadata": {},
     "output_type": "execute_result"
    }
   ],
   "source": [
    "print(X_test.shape)\n",
    "X_test[0:5]"
   ]
  },
  {
   "cell_type": "code",
   "execution_count": null,
   "metadata": {
    "colab": {
     "base_uri": "https://localhost:8080/"
    },
    "id": "1HJ4ei9O9hvY",
    "outputId": "0c9ff0ea-7754-4372-a975-ec4cdb8d894d"
   },
   "outputs": [
    {
     "name": "stdout",
     "output_type": "stream",
     "text": [
      "(1070, 1)\n"
     ]
    },
    {
     "data": {
      "text/plain": [
       "array([[0.12884519],\n",
       "       [0.11832353],\n",
       "       [0.41495163],\n",
       "       [0.11931567],\n",
       "       [0.18122489]])"
      ]
     },
     "execution_count": 390,
     "metadata": {},
     "output_type": "execute_result"
    }
   ],
   "source": [
    "print(Y_train.shape)\n",
    "Y_train[0:5]"
   ]
  },
  {
   "cell_type": "code",
   "execution_count": null,
   "metadata": {
    "colab": {
     "base_uri": "https://localhost:8080/"
    },
    "id": "O-04nUoQ9io4",
    "outputId": "af777854-f7cb-4563-c1a7-1ff32fbedc66"
   },
   "outputs": [
    {
     "name": "stdout",
     "output_type": "stream",
     "text": [
      "(268, 1)\n"
     ]
    },
    {
     "data": {
      "text/plain": [
       "array([[0.12726861],\n",
       "       [0.06624737],\n",
       "       [0.4502755 ],\n",
       "       [0.13056997],\n",
       "       [0.52081677]])"
      ]
     },
     "execution_count": 391,
     "metadata": {},
     "output_type": "execute_result"
    }
   ],
   "source": [
    "print(Y_test.shape)\n",
    "Y_test[0:5]"
   ]
  },
  {
   "cell_type": "code",
   "execution_count": null,
   "metadata": {
    "id": "gfk0ELMg90Wu"
   },
   "outputs": [],
   "source": [
    "model = Sequential()\n",
    "model.add(Dense(64, activation='relu', input_dim=6))\n",
    "model.add(Dense(32, activation='relu'))\n",
    "model.add(Dense(1, activation='linear'))"
   ]
  },
  {
   "cell_type": "code",
   "execution_count": null,
   "metadata": {
    "colab": {
     "base_uri": "https://localhost:8080/"
    },
    "id": "uy9gg3aWNle4",
    "outputId": "174e8c0c-0116-4cb3-9fc1-24c1057a8338"
   },
   "outputs": [
    {
     "name": "stdout",
     "output_type": "stream",
     "text": [
      "Model: \"sequential_10\"\n",
      "_________________________________________________________________\n",
      " Layer (type)                Output Shape              Param #   \n",
      "=================================================================\n",
      " dense_30 (Dense)            (None, 64)                448       \n",
      "                                                                 \n",
      " dense_31 (Dense)            (None, 32)                2080      \n",
      "                                                                 \n",
      " dense_32 (Dense)            (None, 1)                 33        \n",
      "                                                                 \n",
      "=================================================================\n",
      "Total params: 2561 (10.00 KB)\n",
      "Trainable params: 2561 (10.00 KB)\n",
      "Non-trainable params: 0 (0.00 Byte)\n",
      "_________________________________________________________________\n"
     ]
    }
   ],
   "source": [
    "# structure of model\n",
    "model.summary()"
   ]
  },
  {
   "cell_type": "code",
   "execution_count": null,
   "metadata": {
    "id": "xn8ZpCp_90Ze"
   },
   "outputs": [],
   "source": [
    "# compile the data\n",
    "model.compile(optimizer='adam', loss='mean_squared_error')"
   ]
  },
  {
   "cell_type": "code",
   "execution_count": null,
   "metadata": {
    "colab": {
     "base_uri": "https://localhost:8080/"
    },
    "id": "ran-b-3690cQ",
    "outputId": "bfc01b37-467d-4fa1-b0bd-37a31232c594"
   },
   "outputs": [
    {
     "name": "stdout",
     "output_type": "stream",
     "text": [
      "Epoch 1/50\n",
      "34/34 [==============================] - 1s 6ms/step - loss: 0.0170 - val_loss: 0.0107\n",
      "Epoch 2/50\n",
      "34/34 [==============================] - 0s 3ms/step - loss: 0.0105 - val_loss: 0.0094\n",
      "Epoch 3/50\n",
      "34/34 [==============================] - 0s 3ms/step - loss: 0.0094 - val_loss: 0.0086\n",
      "Epoch 4/50\n",
      "34/34 [==============================] - 0s 3ms/step - loss: 0.0084 - val_loss: 0.0075\n",
      "Epoch 5/50\n",
      "34/34 [==============================] - 0s 3ms/step - loss: 0.0077 - val_loss: 0.0069\n",
      "Epoch 6/50\n",
      "34/34 [==============================] - 0s 3ms/step - loss: 0.0072 - val_loss: 0.0064\n",
      "Epoch 7/50\n",
      "34/34 [==============================] - 0s 3ms/step - loss: 0.0066 - val_loss: 0.0063\n",
      "Epoch 8/50\n",
      "34/34 [==============================] - 0s 3ms/step - loss: 0.0063 - val_loss: 0.0063\n",
      "Epoch 9/50\n",
      "34/34 [==============================] - 0s 3ms/step - loss: 0.0062 - val_loss: 0.0060\n",
      "Epoch 10/50\n",
      "34/34 [==============================] - 0s 3ms/step - loss: 0.0062 - val_loss: 0.0080\n",
      "Epoch 11/50\n",
      "34/34 [==============================] - 0s 3ms/step - loss: 0.0064 - val_loss: 0.0062\n",
      "Epoch 12/50\n",
      "34/34 [==============================] - 0s 3ms/step - loss: 0.0061 - val_loss: 0.0058\n",
      "Epoch 13/50\n",
      "34/34 [==============================] - 0s 3ms/step - loss: 0.0058 - val_loss: 0.0056\n",
      "Epoch 14/50\n",
      "34/34 [==============================] - 0s 3ms/step - loss: 0.0057 - val_loss: 0.0061\n",
      "Epoch 15/50\n",
      "34/34 [==============================] - 0s 4ms/step - loss: 0.0063 - val_loss: 0.0065\n",
      "Epoch 16/50\n",
      "34/34 [==============================] - 0s 3ms/step - loss: 0.0058 - val_loss: 0.0059\n",
      "Epoch 17/50\n",
      "34/34 [==============================] - 0s 3ms/step - loss: 0.0056 - val_loss: 0.0058\n",
      "Epoch 18/50\n",
      "34/34 [==============================] - 0s 3ms/step - loss: 0.0056 - val_loss: 0.0060\n",
      "Epoch 19/50\n",
      "34/34 [==============================] - 0s 4ms/step - loss: 0.0056 - val_loss: 0.0058\n",
      "Epoch 20/50\n",
      "34/34 [==============================] - 0s 3ms/step - loss: 0.0055 - val_loss: 0.0059\n",
      "Epoch 21/50\n",
      "34/34 [==============================] - 0s 3ms/step - loss: 0.0055 - val_loss: 0.0057\n",
      "Epoch 22/50\n",
      "34/34 [==============================] - 0s 3ms/step - loss: 0.0055 - val_loss: 0.0059\n",
      "Epoch 23/50\n",
      "34/34 [==============================] - 0s 4ms/step - loss: 0.0057 - val_loss: 0.0056\n",
      "Epoch 24/50\n",
      "34/34 [==============================] - 0s 3ms/step - loss: 0.0055 - val_loss: 0.0058\n",
      "Epoch 25/50\n",
      "34/34 [==============================] - 0s 3ms/step - loss: 0.0054 - val_loss: 0.0064\n",
      "Epoch 26/50\n",
      "34/34 [==============================] - 0s 3ms/step - loss: 0.0057 - val_loss: 0.0062\n",
      "Epoch 27/50\n",
      "34/34 [==============================] - 0s 3ms/step - loss: 0.0056 - val_loss: 0.0056\n",
      "Epoch 28/50\n",
      "34/34 [==============================] - 0s 3ms/step - loss: 0.0056 - val_loss: 0.0061\n",
      "Epoch 29/50\n",
      "34/34 [==============================] - 0s 3ms/step - loss: 0.0056 - val_loss: 0.0075\n",
      "Epoch 30/50\n",
      "34/34 [==============================] - 0s 3ms/step - loss: 0.0056 - val_loss: 0.0060\n",
      "Epoch 31/50\n",
      "34/34 [==============================] - 0s 3ms/step - loss: 0.0054 - val_loss: 0.0060\n",
      "Epoch 32/50\n",
      "34/34 [==============================] - 0s 3ms/step - loss: 0.0053 - val_loss: 0.0057\n",
      "Epoch 33/50\n",
      "34/34 [==============================] - 0s 3ms/step - loss: 0.0055 - val_loss: 0.0063\n",
      "Epoch 34/50\n",
      "34/34 [==============================] - 0s 3ms/step - loss: 0.0055 - val_loss: 0.0057\n",
      "Epoch 35/50\n",
      "34/34 [==============================] - 0s 3ms/step - loss: 0.0052 - val_loss: 0.0057\n",
      "Epoch 36/50\n",
      "34/34 [==============================] - 0s 3ms/step - loss: 0.0053 - val_loss: 0.0057\n",
      "Epoch 37/50\n",
      "34/34 [==============================] - 0s 3ms/step - loss: 0.0054 - val_loss: 0.0061\n",
      "Epoch 38/50\n",
      "34/34 [==============================] - 0s 3ms/step - loss: 0.0052 - val_loss: 0.0059\n",
      "Epoch 39/50\n",
      "34/34 [==============================] - 0s 3ms/step - loss: 0.0052 - val_loss: 0.0058\n",
      "Epoch 40/50\n",
      "34/34 [==============================] - 0s 3ms/step - loss: 0.0054 - val_loss: 0.0061\n",
      "Epoch 41/50\n",
      "34/34 [==============================] - 0s 4ms/step - loss: 0.0052 - val_loss: 0.0059\n",
      "Epoch 42/50\n",
      "34/34 [==============================] - 0s 3ms/step - loss: 0.0051 - val_loss: 0.0059\n",
      "Epoch 43/50\n",
      "34/34 [==============================] - 0s 4ms/step - loss: 0.0054 - val_loss: 0.0060\n",
      "Epoch 44/50\n",
      "34/34 [==============================] - 0s 3ms/step - loss: 0.0052 - val_loss: 0.0058\n",
      "Epoch 45/50\n",
      "34/34 [==============================] - 0s 3ms/step - loss: 0.0050 - val_loss: 0.0059\n",
      "Epoch 46/50\n",
      "34/34 [==============================] - 0s 3ms/step - loss: 0.0051 - val_loss: 0.0060\n",
      "Epoch 47/50\n",
      "34/34 [==============================] - 0s 3ms/step - loss: 0.0052 - val_loss: 0.0059\n",
      "Epoch 48/50\n",
      "34/34 [==============================] - 0s 3ms/step - loss: 0.0052 - val_loss: 0.0057\n",
      "Epoch 49/50\n",
      "34/34 [==============================] - 0s 4ms/step - loss: 0.0053 - val_loss: 0.0061\n",
      "Epoch 50/50\n",
      "34/34 [==============================] - 0s 3ms/step - loss: 0.0052 - val_loss: 0.0060\n"
     ]
    }
   ],
   "source": [
    "# fit the model\n",
    "result = model.fit(X_train, Y_train, epochs=50, batch_size=32, validation_data=(X_test, Y_test))\n",
    "# model.fit(X_train, Y_train, epochs=100, batch_size=107)"
   ]
  },
  {
   "cell_type": "markdown",
   "metadata": {
    "id": "GlOdivHFPjyD"
   },
   "source": [
    "# Evaluting the Model"
   ]
  },
  {
   "cell_type": "code",
   "execution_count": null,
   "metadata": {
    "colab": {
     "base_uri": "https://localhost:8080/"
    },
    "id": "6hcDD7gZX4FC",
    "outputId": "1ee9f3e7-4fbe-4cb6-bb4f-504fcee4b968"
   },
   "outputs": [
    {
     "data": {
      "text/plain": [
       "dict_keys(['loss', 'val_loss'])"
      ]
     },
     "execution_count": 396,
     "metadata": {},
     "output_type": "execute_result"
    }
   ],
   "source": [
    "result.history.keys()"
   ]
  },
  {
   "cell_type": "code",
   "execution_count": null,
   "metadata": {
    "colab": {
     "base_uri": "https://localhost:8080/",
     "height": 472
    },
    "id": "5K_odO2pYF7j",
    "outputId": "67603a57-a888-4c04-a881-b6b0bd4ad97b"
   },
   "outputs": [
    {
     "data": {
      "image/png": "[encoded data removed]",
      "text/plain": [
       "<Figure size 640x480 with 1 Axes>"
      ]
     },
     "metadata": {},
     "output_type": "display_data"
    }
   ],
   "source": [
    "loss = result.history['loss']\n",
    "plt.plot(loss, color='red')\n",
    "plt.title('Model Loss', color='green')\n",
    "plt.ylabel('loss', color='green')\n",
    "plt.xlabel('epoch', color='green')\n",
    "plt.legend(['train'], loc='upper right')\n",
    "plt.show()"
   ]
  },
  {
   "cell_type": "code",
   "execution_count": null,
   "metadata": {
    "colab": {
     "base_uri": "https://localhost:8080/"
    },
    "id": "FTKk0o_-90e-",
    "outputId": "349112b5-59a4-4b9b-bcd0-0259f66b1876"
   },
   "outputs": [
    {
     "name": "stdout",
     "output_type": "stream",
     "text": [
      "9/9 [==============================] - 0s 2ms/step - loss: 0.0060\n"
     ]
    }
   ],
   "source": [
    "results = model.evaluate(X_test, Y_test)"
   ]
  },
  {
   "cell_type": "code",
   "execution_count": null,
   "metadata": {
    "colab": {
     "base_uri": "https://localhost:8080/"
    },
    "id": "4-x4uJ-bZxQj",
    "outputId": "d6b1f307-396e-4a36-8349-590a25fc0555"
   },
   "outputs": [
    {
     "name": "stdout",
     "output_type": "stream",
     "text": [
      "9/9 [==============================] - 0s 2ms/step\n"
     ]
    }
   ],
   "source": [
    "predictions = model.predict(X_test)"
   ]
  },
  {
   "cell_type": "code",
   "execution_count": null,
   "metadata": {
    "colab": {
     "base_uri": "https://localhost:8080/",
     "height": 472
    },
    "id": "r8t7e-_1afq0",
    "outputId": "3d12dec6-3755-4ae0-8c4a-be965e304c66"
   },
   "outputs": [
    {
     "data": {
      "image/png": "[encoded data removed]",
      "text/plain": [
       "<Figure size 640x480 with 1 Axes>"
      ]
     },
     "metadata": {},
     "output_type": "display_data"
    }
   ],
   "source": [
    "import matplotlib.pyplot as plt\n",
    "\n",
    "plt.scatter(Y_test, predictions, marker='o', label='Actual vs Predicted')\n",
    "plt.xlabel(\"Actual Values\")\n",
    "plt.ylabel(\"Predicted Values\")\n",
    "plt.title(\"Actual vs Predicted Values\")\n",
    "plt.legend()\n",
    "plt.show()"
   ]
  }
 ],
 "metadata": {
  "colab": {
   "provenance": []
  },
  "kernelspec": {
   "display_name": "Python 3 (ipykernel)",
   "language": "python",
   "name": "python3"
  },
  "language_info": {
   "codemirror_mode": {
    "name": "ipython",
    "version": 3
   },
   "file_extension": ".py",
   "mimetype": "text/x-python",
   "name": "python",
   "nbconvert_exporter": "python",
   "pygments_lexer": "ipython3",
   "version": "3.9.6"
  }
 },
 "nbformat": 4,
 "nbformat_minor": 1
}
